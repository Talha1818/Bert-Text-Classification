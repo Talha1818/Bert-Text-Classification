{
  "nbformat": 4,
  "nbformat_minor": 0,
  "metadata": {
    "colab": {
      "provenance": [],
      "machine_shape": "hm",
      "gpuType": "T4",
      "authorship_tag": "ABX9TyNte0EWnNrvq6wXW5i8fUvg",
      "include_colab_link": true
    },
    "kernelspec": {
      "name": "python3",
      "display_name": "Python 3"
    },
    "language_info": {
      "name": "python"
    },
    "accelerator": "GPU",
    "gpuClass": "standard",
    "widgets": {
      "application/vnd.jupyter.widget-state+json": {
        "40dfc869639f4602a1458287e602c09d": {
          "model_module": "@jupyter-widgets/controls",
          "model_name": "HBoxModel",
          "model_module_version": "1.5.0",
          "state": {
            "_dom_classes": [],
            "_model_module": "@jupyter-widgets/controls",
            "_model_module_version": "1.5.0",
            "_model_name": "HBoxModel",
            "_view_count": null,
            "_view_module": "@jupyter-widgets/controls",
            "_view_module_version": "1.5.0",
            "_view_name": "HBoxView",
            "box_style": "",
            "children": [
              "IPY_MODEL_7012c186226e43028c152645dd1723ad",
              "IPY_MODEL_476d154eadc9407ab1aa64c92cd89975",
              "IPY_MODEL_1dbbad2d19514122bfbd8a9c62822a21"
            ],
            "layout": "IPY_MODEL_96073eb23e494c49861703dc155da14c"
          }
        },
        "7012c186226e43028c152645dd1723ad": {
          "model_module": "@jupyter-widgets/controls",
          "model_name": "HTMLModel",
          "model_module_version": "1.5.0",
          "state": {
            "_dom_classes": [],
            "_model_module": "@jupyter-widgets/controls",
            "_model_module_version": "1.5.0",
            "_model_name": "HTMLModel",
            "_view_count": null,
            "_view_module": "@jupyter-widgets/controls",
            "_view_module_version": "1.5.0",
            "_view_name": "HTMLView",
            "description": "",
            "description_tooltip": null,
            "layout": "IPY_MODEL_51b87a4c828a4983937ad6b25f075c8e",
            "placeholder": "​",
            "style": "IPY_MODEL_bc5aa4a8f4fb49008c2d7a742d4ca5e9",
            "value": "Loading Data: 100%"
          }
        },
        "476d154eadc9407ab1aa64c92cd89975": {
          "model_module": "@jupyter-widgets/controls",
          "model_name": "FloatProgressModel",
          "model_module_version": "1.5.0",
          "state": {
            "_dom_classes": [],
            "_model_module": "@jupyter-widgets/controls",
            "_model_module_version": "1.5.0",
            "_model_name": "FloatProgressModel",
            "_view_count": null,
            "_view_module": "@jupyter-widgets/controls",
            "_view_module_version": "1.5.0",
            "_view_name": "ProgressView",
            "bar_style": "success",
            "description": "",
            "description_tooltip": null,
            "layout": "IPY_MODEL_5a87d825bec64d79b98cd29e5e59a590",
            "max": 1,
            "min": 0,
            "orientation": "horizontal",
            "style": "IPY_MODEL_ea04543d89074eaf8d9ce83e74ce14f4",
            "value": 1
          }
        },
        "1dbbad2d19514122bfbd8a9c62822a21": {
          "model_module": "@jupyter-widgets/controls",
          "model_name": "HTMLModel",
          "model_module_version": "1.5.0",
          "state": {
            "_dom_classes": [],
            "_model_module": "@jupyter-widgets/controls",
            "_model_module_version": "1.5.0",
            "_model_name": "HTMLModel",
            "_view_count": null,
            "_view_module": "@jupyter-widgets/controls",
            "_view_module_version": "1.5.0",
            "_view_name": "HTMLView",
            "description": "",
            "description_tooltip": null,
            "layout": "IPY_MODEL_2e9d64b81dc640198dcb04bc81f1d2a1",
            "placeholder": "​",
            "style": "IPY_MODEL_42da35617bd24860ac9f393eb988c36a",
            "value": " 1/1 [00:00&lt;00:00,  2.89it/s]"
          }
        },
        "96073eb23e494c49861703dc155da14c": {
          "model_module": "@jupyter-widgets/base",
          "model_name": "LayoutModel",
          "model_module_version": "1.2.0",
          "state": {
            "_model_module": "@jupyter-widgets/base",
            "_model_module_version": "1.2.0",
            "_model_name": "LayoutModel",
            "_view_count": null,
            "_view_module": "@jupyter-widgets/base",
            "_view_module_version": "1.2.0",
            "_view_name": "LayoutView",
            "align_content": null,
            "align_items": null,
            "align_self": null,
            "border": null,
            "bottom": null,
            "display": null,
            "flex": null,
            "flex_flow": null,
            "grid_area": null,
            "grid_auto_columns": null,
            "grid_auto_flow": null,
            "grid_auto_rows": null,
            "grid_column": null,
            "grid_gap": null,
            "grid_row": null,
            "grid_template_areas": null,
            "grid_template_columns": null,
            "grid_template_rows": null,
            "height": null,
            "justify_content": null,
            "justify_items": null,
            "left": null,
            "margin": null,
            "max_height": null,
            "max_width": null,
            "min_height": null,
            "min_width": null,
            "object_fit": null,
            "object_position": null,
            "order": null,
            "overflow": null,
            "overflow_x": null,
            "overflow_y": null,
            "padding": null,
            "right": null,
            "top": null,
            "visibility": null,
            "width": null
          }
        },
        "51b87a4c828a4983937ad6b25f075c8e": {
          "model_module": "@jupyter-widgets/base",
          "model_name": "LayoutModel",
          "model_module_version": "1.2.0",
          "state": {
            "_model_module": "@jupyter-widgets/base",
            "_model_module_version": "1.2.0",
            "_model_name": "LayoutModel",
            "_view_count": null,
            "_view_module": "@jupyter-widgets/base",
            "_view_module_version": "1.2.0",
            "_view_name": "LayoutView",
            "align_content": null,
            "align_items": null,
            "align_self": null,
            "border": null,
            "bottom": null,
            "display": null,
            "flex": null,
            "flex_flow": null,
            "grid_area": null,
            "grid_auto_columns": null,
            "grid_auto_flow": null,
            "grid_auto_rows": null,
            "grid_column": null,
            "grid_gap": null,
            "grid_row": null,
            "grid_template_areas": null,
            "grid_template_columns": null,
            "grid_template_rows": null,
            "height": null,
            "justify_content": null,
            "justify_items": null,
            "left": null,
            "margin": null,
            "max_height": null,
            "max_width": null,
            "min_height": null,
            "min_width": null,
            "object_fit": null,
            "object_position": null,
            "order": null,
            "overflow": null,
            "overflow_x": null,
            "overflow_y": null,
            "padding": null,
            "right": null,
            "top": null,
            "visibility": null,
            "width": null
          }
        },
        "bc5aa4a8f4fb49008c2d7a742d4ca5e9": {
          "model_module": "@jupyter-widgets/controls",
          "model_name": "DescriptionStyleModel",
          "model_module_version": "1.5.0",
          "state": {
            "_model_module": "@jupyter-widgets/controls",
            "_model_module_version": "1.5.0",
            "_model_name": "DescriptionStyleModel",
            "_view_count": null,
            "_view_module": "@jupyter-widgets/base",
            "_view_module_version": "1.2.0",
            "_view_name": "StyleView",
            "description_width": ""
          }
        },
        "5a87d825bec64d79b98cd29e5e59a590": {
          "model_module": "@jupyter-widgets/base",
          "model_name": "LayoutModel",
          "model_module_version": "1.2.0",
          "state": {
            "_model_module": "@jupyter-widgets/base",
            "_model_module_version": "1.2.0",
            "_model_name": "LayoutModel",
            "_view_count": null,
            "_view_module": "@jupyter-widgets/base",
            "_view_module_version": "1.2.0",
            "_view_name": "LayoutView",
            "align_content": null,
            "align_items": null,
            "align_self": null,
            "border": null,
            "bottom": null,
            "display": null,
            "flex": null,
            "flex_flow": null,
            "grid_area": null,
            "grid_auto_columns": null,
            "grid_auto_flow": null,
            "grid_auto_rows": null,
            "grid_column": null,
            "grid_gap": null,
            "grid_row": null,
            "grid_template_areas": null,
            "grid_template_columns": null,
            "grid_template_rows": null,
            "height": null,
            "justify_content": null,
            "justify_items": null,
            "left": null,
            "margin": null,
            "max_height": null,
            "max_width": null,
            "min_height": null,
            "min_width": null,
            "object_fit": null,
            "object_position": null,
            "order": null,
            "overflow": null,
            "overflow_x": null,
            "overflow_y": null,
            "padding": null,
            "right": null,
            "top": null,
            "visibility": null,
            "width": null
          }
        },
        "ea04543d89074eaf8d9ce83e74ce14f4": {
          "model_module": "@jupyter-widgets/controls",
          "model_name": "ProgressStyleModel",
          "model_module_version": "1.5.0",
          "state": {
            "_model_module": "@jupyter-widgets/controls",
            "_model_module_version": "1.5.0",
            "_model_name": "ProgressStyleModel",
            "_view_count": null,
            "_view_module": "@jupyter-widgets/base",
            "_view_module_version": "1.2.0",
            "_view_name": "StyleView",
            "bar_color": null,
            "description_width": ""
          }
        },
        "2e9d64b81dc640198dcb04bc81f1d2a1": {
          "model_module": "@jupyter-widgets/base",
          "model_name": "LayoutModel",
          "model_module_version": "1.2.0",
          "state": {
            "_model_module": "@jupyter-widgets/base",
            "_model_module_version": "1.2.0",
            "_model_name": "LayoutModel",
            "_view_count": null,
            "_view_module": "@jupyter-widgets/base",
            "_view_module_version": "1.2.0",
            "_view_name": "LayoutView",
            "align_content": null,
            "align_items": null,
            "align_self": null,
            "border": null,
            "bottom": null,
            "display": null,
            "flex": null,
            "flex_flow": null,
            "grid_area": null,
            "grid_auto_columns": null,
            "grid_auto_flow": null,
            "grid_auto_rows": null,
            "grid_column": null,
            "grid_gap": null,
            "grid_row": null,
            "grid_template_areas": null,
            "grid_template_columns": null,
            "grid_template_rows": null,
            "height": null,
            "justify_content": null,
            "justify_items": null,
            "left": null,
            "margin": null,
            "max_height": null,
            "max_width": null,
            "min_height": null,
            "min_width": null,
            "object_fit": null,
            "object_position": null,
            "order": null,
            "overflow": null,
            "overflow_x": null,
            "overflow_y": null,
            "padding": null,
            "right": null,
            "top": null,
            "visibility": null,
            "width": null
          }
        },
        "42da35617bd24860ac9f393eb988c36a": {
          "model_module": "@jupyter-widgets/controls",
          "model_name": "DescriptionStyleModel",
          "model_module_version": "1.5.0",
          "state": {
            "_model_module": "@jupyter-widgets/controls",
            "_model_module_version": "1.5.0",
            "_model_name": "DescriptionStyleModel",
            "_view_count": null,
            "_view_module": "@jupyter-widgets/base",
            "_view_module_version": "1.2.0",
            "_view_name": "StyleView",
            "description_width": ""
          }
        },
        "ea63797409684b0c99bf6311fca3271c": {
          "model_module": "@jupyter-widgets/controls",
          "model_name": "HBoxModel",
          "model_module_version": "1.5.0",
          "state": {
            "_dom_classes": [],
            "_model_module": "@jupyter-widgets/controls",
            "_model_module_version": "1.5.0",
            "_model_name": "HBoxModel",
            "_view_count": null,
            "_view_module": "@jupyter-widgets/controls",
            "_view_module_version": "1.5.0",
            "_view_name": "HBoxView",
            "box_style": "",
            "children": [
              "IPY_MODEL_e95951646a26422db8135b1b9f88b903",
              "IPY_MODEL_9bcbc8ae064e449baa6ba8211b794cdf",
              "IPY_MODEL_e8174f3ab72d4fdfbb46e42d7a2bbea6"
            ],
            "layout": "IPY_MODEL_a7e678b1dd35456cac02f1a3a5c44859"
          }
        },
        "e95951646a26422db8135b1b9f88b903": {
          "model_module": "@jupyter-widgets/controls",
          "model_name": "HTMLModel",
          "model_module_version": "1.5.0",
          "state": {
            "_dom_classes": [],
            "_model_module": "@jupyter-widgets/controls",
            "_model_module_version": "1.5.0",
            "_model_name": "HTMLModel",
            "_view_count": null,
            "_view_module": "@jupyter-widgets/controls",
            "_view_module_version": "1.5.0",
            "_view_name": "HTMLView",
            "description": "",
            "description_tooltip": null,
            "layout": "IPY_MODEL_ab135bc33f1f4f4cbcd3d36a18972d11",
            "placeholder": "​",
            "style": "IPY_MODEL_028cbf0fda8d412181df3de7f76b4005",
            "value": "100%"
          }
        },
        "9bcbc8ae064e449baa6ba8211b794cdf": {
          "model_module": "@jupyter-widgets/controls",
          "model_name": "FloatProgressModel",
          "model_module_version": "1.5.0",
          "state": {
            "_dom_classes": [],
            "_model_module": "@jupyter-widgets/controls",
            "_model_module_version": "1.5.0",
            "_model_name": "FloatProgressModel",
            "_view_count": null,
            "_view_module": "@jupyter-widgets/controls",
            "_view_module_version": "1.5.0",
            "_view_name": "ProgressView",
            "bar_style": "success",
            "description": "",
            "description_tooltip": null,
            "layout": "IPY_MODEL_cc9d535d36e34a47a4e2c0bd626f5832",
            "max": 88551,
            "min": 0,
            "orientation": "horizontal",
            "style": "IPY_MODEL_f6d82887eafc45469733b66497d0b395",
            "value": 88551
          }
        },
        "e8174f3ab72d4fdfbb46e42d7a2bbea6": {
          "model_module": "@jupyter-widgets/controls",
          "model_name": "HTMLModel",
          "model_module_version": "1.5.0",
          "state": {
            "_dom_classes": [],
            "_model_module": "@jupyter-widgets/controls",
            "_model_module_version": "1.5.0",
            "_model_name": "HTMLModel",
            "_view_count": null,
            "_view_module": "@jupyter-widgets/controls",
            "_view_module_version": "1.5.0",
            "_view_name": "HTMLView",
            "description": "",
            "description_tooltip": null,
            "layout": "IPY_MODEL_1eac9852bd2f48fb8289ddf609623fee",
            "placeholder": "​",
            "style": "IPY_MODEL_af16f9fd2dfe4c1494f6b44d96a0e723",
            "value": " 88551/88551 [01:43&lt;00:00, 889.32it/s]"
          }
        },
        "a7e678b1dd35456cac02f1a3a5c44859": {
          "model_module": "@jupyter-widgets/base",
          "model_name": "LayoutModel",
          "model_module_version": "1.2.0",
          "state": {
            "_model_module": "@jupyter-widgets/base",
            "_model_module_version": "1.2.0",
            "_model_name": "LayoutModel",
            "_view_count": null,
            "_view_module": "@jupyter-widgets/base",
            "_view_module_version": "1.2.0",
            "_view_name": "LayoutView",
            "align_content": null,
            "align_items": null,
            "align_self": null,
            "border": null,
            "bottom": null,
            "display": null,
            "flex": null,
            "flex_flow": null,
            "grid_area": null,
            "grid_auto_columns": null,
            "grid_auto_flow": null,
            "grid_auto_rows": null,
            "grid_column": null,
            "grid_gap": null,
            "grid_row": null,
            "grid_template_areas": null,
            "grid_template_columns": null,
            "grid_template_rows": null,
            "height": null,
            "justify_content": null,
            "justify_items": null,
            "left": null,
            "margin": null,
            "max_height": null,
            "max_width": null,
            "min_height": null,
            "min_width": null,
            "object_fit": null,
            "object_position": null,
            "order": null,
            "overflow": null,
            "overflow_x": null,
            "overflow_y": null,
            "padding": null,
            "right": null,
            "top": null,
            "visibility": null,
            "width": null
          }
        },
        "ab135bc33f1f4f4cbcd3d36a18972d11": {
          "model_module": "@jupyter-widgets/base",
          "model_name": "LayoutModel",
          "model_module_version": "1.2.0",
          "state": {
            "_model_module": "@jupyter-widgets/base",
            "_model_module_version": "1.2.0",
            "_model_name": "LayoutModel",
            "_view_count": null,
            "_view_module": "@jupyter-widgets/base",
            "_view_module_version": "1.2.0",
            "_view_name": "LayoutView",
            "align_content": null,
            "align_items": null,
            "align_self": null,
            "border": null,
            "bottom": null,
            "display": null,
            "flex": null,
            "flex_flow": null,
            "grid_area": null,
            "grid_auto_columns": null,
            "grid_auto_flow": null,
            "grid_auto_rows": null,
            "grid_column": null,
            "grid_gap": null,
            "grid_row": null,
            "grid_template_areas": null,
            "grid_template_columns": null,
            "grid_template_rows": null,
            "height": null,
            "justify_content": null,
            "justify_items": null,
            "left": null,
            "margin": null,
            "max_height": null,
            "max_width": null,
            "min_height": null,
            "min_width": null,
            "object_fit": null,
            "object_position": null,
            "order": null,
            "overflow": null,
            "overflow_x": null,
            "overflow_y": null,
            "padding": null,
            "right": null,
            "top": null,
            "visibility": null,
            "width": null
          }
        },
        "028cbf0fda8d412181df3de7f76b4005": {
          "model_module": "@jupyter-widgets/controls",
          "model_name": "DescriptionStyleModel",
          "model_module_version": "1.5.0",
          "state": {
            "_model_module": "@jupyter-widgets/controls",
            "_model_module_version": "1.5.0",
            "_model_name": "DescriptionStyleModel",
            "_view_count": null,
            "_view_module": "@jupyter-widgets/base",
            "_view_module_version": "1.2.0",
            "_view_name": "StyleView",
            "description_width": ""
          }
        },
        "cc9d535d36e34a47a4e2c0bd626f5832": {
          "model_module": "@jupyter-widgets/base",
          "model_name": "LayoutModel",
          "model_module_version": "1.2.0",
          "state": {
            "_model_module": "@jupyter-widgets/base",
            "_model_module_version": "1.2.0",
            "_model_name": "LayoutModel",
            "_view_count": null,
            "_view_module": "@jupyter-widgets/base",
            "_view_module_version": "1.2.0",
            "_view_name": "LayoutView",
            "align_content": null,
            "align_items": null,
            "align_self": null,
            "border": null,
            "bottom": null,
            "display": null,
            "flex": null,
            "flex_flow": null,
            "grid_area": null,
            "grid_auto_columns": null,
            "grid_auto_flow": null,
            "grid_auto_rows": null,
            "grid_column": null,
            "grid_gap": null,
            "grid_row": null,
            "grid_template_areas": null,
            "grid_template_columns": null,
            "grid_template_rows": null,
            "height": null,
            "justify_content": null,
            "justify_items": null,
            "left": null,
            "margin": null,
            "max_height": null,
            "max_width": null,
            "min_height": null,
            "min_width": null,
            "object_fit": null,
            "object_position": null,
            "order": null,
            "overflow": null,
            "overflow_x": null,
            "overflow_y": null,
            "padding": null,
            "right": null,
            "top": null,
            "visibility": null,
            "width": null
          }
        },
        "f6d82887eafc45469733b66497d0b395": {
          "model_module": "@jupyter-widgets/controls",
          "model_name": "ProgressStyleModel",
          "model_module_version": "1.5.0",
          "state": {
            "_model_module": "@jupyter-widgets/controls",
            "_model_module_version": "1.5.0",
            "_model_name": "ProgressStyleModel",
            "_view_count": null,
            "_view_module": "@jupyter-widgets/base",
            "_view_module_version": "1.2.0",
            "_view_name": "StyleView",
            "bar_color": null,
            "description_width": ""
          }
        },
        "1eac9852bd2f48fb8289ddf609623fee": {
          "model_module": "@jupyter-widgets/base",
          "model_name": "LayoutModel",
          "model_module_version": "1.2.0",
          "state": {
            "_model_module": "@jupyter-widgets/base",
            "_model_module_version": "1.2.0",
            "_model_name": "LayoutModel",
            "_view_count": null,
            "_view_module": "@jupyter-widgets/base",
            "_view_module_version": "1.2.0",
            "_view_name": "LayoutView",
            "align_content": null,
            "align_items": null,
            "align_self": null,
            "border": null,
            "bottom": null,
            "display": null,
            "flex": null,
            "flex_flow": null,
            "grid_area": null,
            "grid_auto_columns": null,
            "grid_auto_flow": null,
            "grid_auto_rows": null,
            "grid_column": null,
            "grid_gap": null,
            "grid_row": null,
            "grid_template_areas": null,
            "grid_template_columns": null,
            "grid_template_rows": null,
            "height": null,
            "justify_content": null,
            "justify_items": null,
            "left": null,
            "margin": null,
            "max_height": null,
            "max_width": null,
            "min_height": null,
            "min_width": null,
            "object_fit": null,
            "object_position": null,
            "order": null,
            "overflow": null,
            "overflow_x": null,
            "overflow_y": null,
            "padding": null,
            "right": null,
            "top": null,
            "visibility": null,
            "width": null
          }
        },
        "af16f9fd2dfe4c1494f6b44d96a0e723": {
          "model_module": "@jupyter-widgets/controls",
          "model_name": "DescriptionStyleModel",
          "model_module_version": "1.5.0",
          "state": {
            "_model_module": "@jupyter-widgets/controls",
            "_model_module_version": "1.5.0",
            "_model_name": "DescriptionStyleModel",
            "_view_count": null,
            "_view_module": "@jupyter-widgets/base",
            "_view_module_version": "1.2.0",
            "_view_name": "StyleView",
            "description_width": ""
          }
        },
        "1dc4c2b0140344f69a20d02f9b8cb8a8": {
          "model_module": "@jupyter-widgets/controls",
          "model_name": "HBoxModel",
          "model_module_version": "1.5.0",
          "state": {
            "_dom_classes": [],
            "_model_module": "@jupyter-widgets/controls",
            "_model_module_version": "1.5.0",
            "_model_name": "HBoxModel",
            "_view_count": null,
            "_view_module": "@jupyter-widgets/controls",
            "_view_module_version": "1.5.0",
            "_view_name": "HBoxView",
            "box_style": "",
            "children": [
              "IPY_MODEL_5428b37576574cf0ba6c4a5eb850cc54",
              "IPY_MODEL_86f6a54ce7f64fd5a78543bebc486d57",
              "IPY_MODEL_d3e8c11429b64a37bac4e77d98a8a444"
            ],
            "layout": "IPY_MODEL_209bc42025314edb84cbbb2dfe61bade"
          }
        },
        "5428b37576574cf0ba6c4a5eb850cc54": {
          "model_module": "@jupyter-widgets/controls",
          "model_name": "HTMLModel",
          "model_module_version": "1.5.0",
          "state": {
            "_dom_classes": [],
            "_model_module": "@jupyter-widgets/controls",
            "_model_module_version": "1.5.0",
            "_model_name": "HTMLModel",
            "_view_count": null,
            "_view_module": "@jupyter-widgets/controls",
            "_view_module_version": "1.5.0",
            "_view_name": "HTMLView",
            "description": "",
            "description_tooltip": null,
            "layout": "IPY_MODEL_9a8ea2899eff41cfa6cfcc8879d0a1af",
            "placeholder": "​",
            "style": "IPY_MODEL_153f0d2f82a54e6fbc501c4cbc2c2aae",
            "value": "data_splition: 100%"
          }
        },
        "86f6a54ce7f64fd5a78543bebc486d57": {
          "model_module": "@jupyter-widgets/controls",
          "model_name": "FloatProgressModel",
          "model_module_version": "1.5.0",
          "state": {
            "_dom_classes": [],
            "_model_module": "@jupyter-widgets/controls",
            "_model_module_version": "1.5.0",
            "_model_name": "FloatProgressModel",
            "_view_count": null,
            "_view_module": "@jupyter-widgets/controls",
            "_view_module_version": "1.5.0",
            "_view_name": "ProgressView",
            "bar_style": "success",
            "description": "",
            "description_tooltip": null,
            "layout": "IPY_MODEL_c406475d2fb34a5bad76d2ddb370967f",
            "max": 2,
            "min": 0,
            "orientation": "horizontal",
            "style": "IPY_MODEL_aab02e7509df4e9f9df84cb7100690be",
            "value": 2
          }
        },
        "d3e8c11429b64a37bac4e77d98a8a444": {
          "model_module": "@jupyter-widgets/controls",
          "model_name": "HTMLModel",
          "model_module_version": "1.5.0",
          "state": {
            "_dom_classes": [],
            "_model_module": "@jupyter-widgets/controls",
            "_model_module_version": "1.5.0",
            "_model_name": "HTMLModel",
            "_view_count": null,
            "_view_module": "@jupyter-widgets/controls",
            "_view_module_version": "1.5.0",
            "_view_name": "HTMLView",
            "description": "",
            "description_tooltip": null,
            "layout": "IPY_MODEL_03d216ef27694a4d96447b3481658557",
            "placeholder": "​",
            "style": "IPY_MODEL_14f0485b46424863b9b5d94e56014617",
            "value": " 2/2 [00:00&lt;00:00, 169.90it/s]"
          }
        },
        "209bc42025314edb84cbbb2dfe61bade": {
          "model_module": "@jupyter-widgets/base",
          "model_name": "LayoutModel",
          "model_module_version": "1.2.0",
          "state": {
            "_model_module": "@jupyter-widgets/base",
            "_model_module_version": "1.2.0",
            "_model_name": "LayoutModel",
            "_view_count": null,
            "_view_module": "@jupyter-widgets/base",
            "_view_module_version": "1.2.0",
            "_view_name": "LayoutView",
            "align_content": null,
            "align_items": null,
            "align_self": null,
            "border": null,
            "bottom": null,
            "display": null,
            "flex": null,
            "flex_flow": null,
            "grid_area": null,
            "grid_auto_columns": null,
            "grid_auto_flow": null,
            "grid_auto_rows": null,
            "grid_column": null,
            "grid_gap": null,
            "grid_row": null,
            "grid_template_areas": null,
            "grid_template_columns": null,
            "grid_template_rows": null,
            "height": null,
            "justify_content": null,
            "justify_items": null,
            "left": null,
            "margin": null,
            "max_height": null,
            "max_width": null,
            "min_height": null,
            "min_width": null,
            "object_fit": null,
            "object_position": null,
            "order": null,
            "overflow": null,
            "overflow_x": null,
            "overflow_y": null,
            "padding": null,
            "right": null,
            "top": null,
            "visibility": null,
            "width": null
          }
        },
        "9a8ea2899eff41cfa6cfcc8879d0a1af": {
          "model_module": "@jupyter-widgets/base",
          "model_name": "LayoutModel",
          "model_module_version": "1.2.0",
          "state": {
            "_model_module": "@jupyter-widgets/base",
            "_model_module_version": "1.2.0",
            "_model_name": "LayoutModel",
            "_view_count": null,
            "_view_module": "@jupyter-widgets/base",
            "_view_module_version": "1.2.0",
            "_view_name": "LayoutView",
            "align_content": null,
            "align_items": null,
            "align_self": null,
            "border": null,
            "bottom": null,
            "display": null,
            "flex": null,
            "flex_flow": null,
            "grid_area": null,
            "grid_auto_columns": null,
            "grid_auto_flow": null,
            "grid_auto_rows": null,
            "grid_column": null,
            "grid_gap": null,
            "grid_row": null,
            "grid_template_areas": null,
            "grid_template_columns": null,
            "grid_template_rows": null,
            "height": null,
            "justify_content": null,
            "justify_items": null,
            "left": null,
            "margin": null,
            "max_height": null,
            "max_width": null,
            "min_height": null,
            "min_width": null,
            "object_fit": null,
            "object_position": null,
            "order": null,
            "overflow": null,
            "overflow_x": null,
            "overflow_y": null,
            "padding": null,
            "right": null,
            "top": null,
            "visibility": null,
            "width": null
          }
        },
        "153f0d2f82a54e6fbc501c4cbc2c2aae": {
          "model_module": "@jupyter-widgets/controls",
          "model_name": "DescriptionStyleModel",
          "model_module_version": "1.5.0",
          "state": {
            "_model_module": "@jupyter-widgets/controls",
            "_model_module_version": "1.5.0",
            "_model_name": "DescriptionStyleModel",
            "_view_count": null,
            "_view_module": "@jupyter-widgets/base",
            "_view_module_version": "1.2.0",
            "_view_name": "StyleView",
            "description_width": ""
          }
        },
        "c406475d2fb34a5bad76d2ddb370967f": {
          "model_module": "@jupyter-widgets/base",
          "model_name": "LayoutModel",
          "model_module_version": "1.2.0",
          "state": {
            "_model_module": "@jupyter-widgets/base",
            "_model_module_version": "1.2.0",
            "_model_name": "LayoutModel",
            "_view_count": null,
            "_view_module": "@jupyter-widgets/base",
            "_view_module_version": "1.2.0",
            "_view_name": "LayoutView",
            "align_content": null,
            "align_items": null,
            "align_self": null,
            "border": null,
            "bottom": null,
            "display": null,
            "flex": null,
            "flex_flow": null,
            "grid_area": null,
            "grid_auto_columns": null,
            "grid_auto_flow": null,
            "grid_auto_rows": null,
            "grid_column": null,
            "grid_gap": null,
            "grid_row": null,
            "grid_template_areas": null,
            "grid_template_columns": null,
            "grid_template_rows": null,
            "height": null,
            "justify_content": null,
            "justify_items": null,
            "left": null,
            "margin": null,
            "max_height": null,
            "max_width": null,
            "min_height": null,
            "min_width": null,
            "object_fit": null,
            "object_position": null,
            "order": null,
            "overflow": null,
            "overflow_x": null,
            "overflow_y": null,
            "padding": null,
            "right": null,
            "top": null,
            "visibility": null,
            "width": null
          }
        },
        "aab02e7509df4e9f9df84cb7100690be": {
          "model_module": "@jupyter-widgets/controls",
          "model_name": "ProgressStyleModel",
          "model_module_version": "1.5.0",
          "state": {
            "_model_module": "@jupyter-widgets/controls",
            "_model_module_version": "1.5.0",
            "_model_name": "ProgressStyleModel",
            "_view_count": null,
            "_view_module": "@jupyter-widgets/base",
            "_view_module_version": "1.2.0",
            "_view_name": "StyleView",
            "bar_color": null,
            "description_width": ""
          }
        },
        "03d216ef27694a4d96447b3481658557": {
          "model_module": "@jupyter-widgets/base",
          "model_name": "LayoutModel",
          "model_module_version": "1.2.0",
          "state": {
            "_model_module": "@jupyter-widgets/base",
            "_model_module_version": "1.2.0",
            "_model_name": "LayoutModel",
            "_view_count": null,
            "_view_module": "@jupyter-widgets/base",
            "_view_module_version": "1.2.0",
            "_view_name": "LayoutView",
            "align_content": null,
            "align_items": null,
            "align_self": null,
            "border": null,
            "bottom": null,
            "display": null,
            "flex": null,
            "flex_flow": null,
            "grid_area": null,
            "grid_auto_columns": null,
            "grid_auto_flow": null,
            "grid_auto_rows": null,
            "grid_column": null,
            "grid_gap": null,
            "grid_row": null,
            "grid_template_areas": null,
            "grid_template_columns": null,
            "grid_template_rows": null,
            "height": null,
            "justify_content": null,
            "justify_items": null,
            "left": null,
            "margin": null,
            "max_height": null,
            "max_width": null,
            "min_height": null,
            "min_width": null,
            "object_fit": null,
            "object_position": null,
            "order": null,
            "overflow": null,
            "overflow_x": null,
            "overflow_y": null,
            "padding": null,
            "right": null,
            "top": null,
            "visibility": null,
            "width": null
          }
        },
        "14f0485b46424863b9b5d94e56014617": {
          "model_module": "@jupyter-widgets/controls",
          "model_name": "DescriptionStyleModel",
          "model_module_version": "1.5.0",
          "state": {
            "_model_module": "@jupyter-widgets/controls",
            "_model_module_version": "1.5.0",
            "_model_name": "DescriptionStyleModel",
            "_view_count": null,
            "_view_module": "@jupyter-widgets/base",
            "_view_module_version": "1.2.0",
            "_view_name": "StyleView",
            "description_width": ""
          }
        }
      }
    }
  },
  "cells": [
    {
      "cell_type": "markdown",
      "metadata": {
        "id": "view-in-github",
        "colab_type": "text"
      },
      "source": [
        "<a href=\"https://colab.research.google.com/github/Talha1818/Bert-Text-Classification/blob/master/Pipeline_Train_BERT_Model_Documents_Classification.ipynb\" target=\"_parent\"><img src=\"https://colab.research.google.com/assets/colab-badge.svg\" alt=\"Open In Colab\"/></a>"
      ]
    },
    {
      "cell_type": "code",
      "execution_count": null,
      "metadata": {
        "colab": {
          "base_uri": "https://localhost:8080/"
        },
        "id": "VtgFWiRZx6sw",
        "outputId": "f774eff0-d3e4-46f4-f03f-54d16cc1cf57"
      },
      "outputs": [
        {
          "output_type": "stream",
          "name": "stdout",
          "text": [
            "Mounted at /content/drive\n"
          ]
        }
      ],
      "source": [
        "from google.colab import drive\n",
        "drive.mount('/content/drive')"
      ]
    },
    {
      "cell_type": "code",
      "source": [
        "!pip install datasets transformers==4.28.0"
      ],
      "metadata": {
        "colab": {
          "base_uri": "https://localhost:8080/"
        },
        "id": "uoYmffihG_fq",
        "outputId": "c86f7f6b-1731-44a0-f24c-f868a7493488"
      },
      "execution_count": null,
      "outputs": [
        {
          "output_type": "stream",
          "name": "stdout",
          "text": [
            "Looking in indexes: https://pypi.org/simple, https://us-python.pkg.dev/colab-wheels/public/simple/\n",
            "Requirement already satisfied: datasets in /usr/local/lib/python3.10/dist-packages (2.12.0)\n",
            "Requirement already satisfied: transformers==4.28.0 in /usr/local/lib/python3.10/dist-packages (4.28.0)\n",
            "Requirement already satisfied: filelock in /usr/local/lib/python3.10/dist-packages (from transformers==4.28.0) (3.12.0)\n",
            "Requirement already satisfied: huggingface-hub<1.0,>=0.11.0 in /usr/local/lib/python3.10/dist-packages (from transformers==4.28.0) (0.14.1)\n",
            "Requirement already satisfied: numpy>=1.17 in /usr/local/lib/python3.10/dist-packages (from transformers==4.28.0) (1.22.4)\n",
            "Requirement already satisfied: packaging>=20.0 in /usr/local/lib/python3.10/dist-packages (from transformers==4.28.0) (23.1)\n",
            "Requirement already satisfied: pyyaml>=5.1 in /usr/local/lib/python3.10/dist-packages (from transformers==4.28.0) (6.0)\n",
            "Requirement already satisfied: regex!=2019.12.17 in /usr/local/lib/python3.10/dist-packages (from transformers==4.28.0) (2022.10.31)\n",
            "Requirement already satisfied: requests in /usr/local/lib/python3.10/dist-packages (from transformers==4.28.0) (2.27.1)\n",
            "Requirement already satisfied: tokenizers!=0.11.3,<0.14,>=0.11.1 in /usr/local/lib/python3.10/dist-packages (from transformers==4.28.0) (0.13.3)\n",
            "Requirement already satisfied: tqdm>=4.27 in /usr/local/lib/python3.10/dist-packages (from transformers==4.28.0) (4.65.0)\n",
            "Requirement already satisfied: pyarrow>=8.0.0 in /usr/local/lib/python3.10/dist-packages (from datasets) (9.0.0)\n",
            "Requirement already satisfied: dill<0.3.7,>=0.3.0 in /usr/local/lib/python3.10/dist-packages (from datasets) (0.3.6)\n",
            "Requirement already satisfied: pandas in /usr/local/lib/python3.10/dist-packages (from datasets) (1.5.3)\n",
            "Requirement already satisfied: xxhash in /usr/local/lib/python3.10/dist-packages (from datasets) (3.2.0)\n",
            "Requirement already satisfied: multiprocess in /usr/local/lib/python3.10/dist-packages (from datasets) (0.70.14)\n",
            "Requirement already satisfied: fsspec[http]>=2021.11.1 in /usr/local/lib/python3.10/dist-packages (from datasets) (2023.4.0)\n",
            "Requirement already satisfied: aiohttp in /usr/local/lib/python3.10/dist-packages (from datasets) (3.8.4)\n",
            "Requirement already satisfied: responses<0.19 in /usr/local/lib/python3.10/dist-packages (from datasets) (0.18.0)\n",
            "Requirement already satisfied: attrs>=17.3.0 in /usr/local/lib/python3.10/dist-packages (from aiohttp->datasets) (23.1.0)\n",
            "Requirement already satisfied: charset-normalizer<4.0,>=2.0 in /usr/local/lib/python3.10/dist-packages (from aiohttp->datasets) (2.0.12)\n",
            "Requirement already satisfied: multidict<7.0,>=4.5 in /usr/local/lib/python3.10/dist-packages (from aiohttp->datasets) (6.0.4)\n",
            "Requirement already satisfied: async-timeout<5.0,>=4.0.0a3 in /usr/local/lib/python3.10/dist-packages (from aiohttp->datasets) (4.0.2)\n",
            "Requirement already satisfied: yarl<2.0,>=1.0 in /usr/local/lib/python3.10/dist-packages (from aiohttp->datasets) (1.9.2)\n",
            "Requirement already satisfied: frozenlist>=1.1.1 in /usr/local/lib/python3.10/dist-packages (from aiohttp->datasets) (1.3.3)\n",
            "Requirement already satisfied: aiosignal>=1.1.2 in /usr/local/lib/python3.10/dist-packages (from aiohttp->datasets) (1.3.1)\n",
            "Requirement already satisfied: typing-extensions>=3.7.4.3 in /usr/local/lib/python3.10/dist-packages (from huggingface-hub<1.0,>=0.11.0->transformers==4.28.0) (4.5.0)\n",
            "Requirement already satisfied: urllib3<1.27,>=1.21.1 in /usr/local/lib/python3.10/dist-packages (from requests->transformers==4.28.0) (1.26.15)\n",
            "Requirement already satisfied: certifi>=2017.4.17 in /usr/local/lib/python3.10/dist-packages (from requests->transformers==4.28.0) (2022.12.7)\n",
            "Requirement already satisfied: idna<4,>=2.5 in /usr/local/lib/python3.10/dist-packages (from requests->transformers==4.28.0) (3.4)\n",
            "Requirement already satisfied: python-dateutil>=2.8.1 in /usr/local/lib/python3.10/dist-packages (from pandas->datasets) (2.8.2)\n",
            "Requirement already satisfied: pytz>=2020.1 in /usr/local/lib/python3.10/dist-packages (from pandas->datasets) (2022.7.1)\n",
            "Requirement already satisfied: six>=1.5 in /usr/local/lib/python3.10/dist-packages (from python-dateutil>=2.8.1->pandas->datasets) (1.16.0)\n"
          ]
        }
      ]
    },
    {
      "cell_type": "code",
      "source": [
        "import pandas as pd\n",
        "from tqdm.auto import tqdm\n",
        "from sklearn.preprocessing import LabelEncoder\n",
        "from transformers import AutoModelForSequenceClassification\n",
        "from transformers import AutoTokenizer\n",
        "from sklearn.model_selection import train_test_split\n",
        "import pyarrow as pa\n",
        "from datasets import Dataset\n",
        "from sklearn.metrics import accuracy_score, precision_recall_fscore_support\n",
        "import numpy as np\n",
        "from transformers import TrainingArguments, Trainer\n",
        "import torch\n",
        "import torch.nn.functional as F\n",
        "import psutil\n",
        "import re\n",
        "import pandas as pd\n",
        "import nltk\n",
        "from nltk.corpus import stopwords\n",
        "\n",
        "nltk.download('stopwords')"
      ],
      "metadata": {
        "colab": {
          "base_uri": "https://localhost:8080/"
        },
        "id": "aDKExPX5zD6O",
        "outputId": "c45ad519-2457-41c8-9033-e3a72b60bcde"
      },
      "execution_count": null,
      "outputs": [
        {
          "output_type": "stream",
          "name": "stderr",
          "text": [
            "[nltk_data] Downloading package stopwords to /root/nltk_data...\n",
            "[nltk_data]   Package stopwords is already up-to-date!\n"
          ]
        },
        {
          "output_type": "execute_result",
          "data": {
            "text/plain": [
              "True"
            ]
          },
          "metadata": {},
          "execution_count": 2
        }
      ]
    },
    {
      "cell_type": "code",
      "source": [
        "class LoadDataset:\n",
        "  def __init__(self, file_path, token_frquency=100, start_token='<start>', end_token='<end>'):\n",
        "    self.file_path = file_path\n",
        "    self.token_frquency = token_frquency\n",
        "    self.start_token = start_token\n",
        "    self.end_token = end_token\n",
        "    self.df = pd.read_csv(self.file_path)\n",
        "\n",
        "  def load_data(self):\n",
        "    self.df['token'] = self.df['token'].astype(int)\n",
        "    self.df['clean_text'] = f\"{self.start_token} \" + self.df['clean_text'] + f\" {self.end_token}\"\n",
        "    self.df = self.df[self.df['clean_text'].notna()]\n",
        "    self.df = self.df[self.df['token'].notna()]\n",
        "\n",
        "    # get required token frequency\n",
        "    df1 = self.df['token'].value_counts().to_frame().reset_index().rename(columns={'index':'token','token':'count'})\n",
        "    df_100 = df1[df1['count']>=self.token_frquency]['token'].tolist()\n",
        "    df_new = self.df[self.df['token'].isin(df_100)]\n",
        "    self.df = df_new\n",
        "    return self.df\n",
        "\n",
        "  def __len__(self):\n",
        "        return len(self.df['token'].unique())\n",
        "\n",
        "  def __str__(self):\n",
        "        total_length =  self.__len__()\n",
        "        return f\"\\nLoadDataset: Total Token in Dataset: {total_length}\\nTotal Shape: {self.df.shape}\""
      ],
      "metadata": {
        "id": "k0Flpv9eyIfm"
      },
      "execution_count": null,
      "outputs": []
    },
    {
      "cell_type": "code",
      "source": [
        "class LabelEncoding:\n",
        "  def __init__(self, df):\n",
        "    self.encoder = LabelEncoder()\n",
        "    self.df = df\n",
        "    self.df['token'] = self.encoder.fit_transform(self.df['token'])\n",
        "\n",
        "  def get_encoding_mapping(self):\n",
        "    # Get mapping of label encoding values to original classes\n",
        "    self.label_encoding_mapping = dict(zip(self.encoder.transform(self.encoder.classes_), self.encoder.classes_))\n",
        "    return self.label_encoding_mapping, self.df\n",
        "\n",
        "  def __str__(self):\n",
        "          encoding, _ = self.get_encoding_mapping()\n",
        "          return f\"\\n{encoding}\""
      ],
      "metadata": {
        "id": "I0c6_0813SZu"
      },
      "execution_count": null,
      "outputs": []
    },
    {
      "cell_type": "code",
      "source": [
        "file_path = \"/content/drive/MyDrive/Annotation Folder/Final_Text_Dataset_22_May_2023.csv\"\n",
        "token_frquency = 100\n",
        "start_token='<start>'\n",
        "end_token='<end>'\n",
        "data_object = LoadDataset(file_path, token_frquency, start_token, end_token)\n",
        "\n",
        "# Add progress bar to track the execution\n",
        "with tqdm(total=1, desc='Loading Data') as pbar:\n",
        "    df = data_object.load_data()\n",
        "    pbar.update(1)\n",
        "print(data_object)\n",
        "\n",
        "# encoding the token\n",
        "encoder = LabelEncoding(df)\n",
        "get_encoding, df_encoder = encoder.get_encoding_mapping()\n",
        "print(encoder)"
      ],
      "metadata": {
        "colab": {
          "base_uri": "https://localhost:8080/",
          "height": 156,
          "referenced_widgets": [
            "40dfc869639f4602a1458287e602c09d",
            "7012c186226e43028c152645dd1723ad",
            "476d154eadc9407ab1aa64c92cd89975",
            "1dbbad2d19514122bfbd8a9c62822a21",
            "96073eb23e494c49861703dc155da14c",
            "51b87a4c828a4983937ad6b25f075c8e",
            "bc5aa4a8f4fb49008c2d7a742d4ca5e9",
            "5a87d825bec64d79b98cd29e5e59a590",
            "ea04543d89074eaf8d9ce83e74ce14f4",
            "2e9d64b81dc640198dcb04bc81f1d2a1",
            "42da35617bd24860ac9f393eb988c36a"
          ]
        },
        "id": "FEuE4ImC7Dea",
        "outputId": "e9750ced-44de-4684-9f43-ffe2e8612243"
      },
      "execution_count": null,
      "outputs": [
        {
          "output_type": "display_data",
          "data": {
            "text/plain": [
              "Loading Data:   0%|          | 0/1 [00:00<?, ?it/s]"
            ],
            "application/vnd.jupyter.widget-view+json": {
              "version_major": 2,
              "version_minor": 0,
              "model_id": "40dfc869639f4602a1458287e602c09d"
            }
          },
          "metadata": {}
        },
        {
          "output_type": "stream",
          "name": "stdout",
          "text": [
            "\n",
            "LoadDataset: Total Token in Dataset: 130\n",
            "Total Shape: (88551, 5)\n",
            "\n",
            "{0: 0, 1: 1, 2: 2, 3: 3, 4: 11, 5: 12, 6: 13, 7: 14, 8: 15, 9: 17, 10: 20, 11: 21, 12: 22, 13: 23, 14: 24, 15: 25, 16: 27, 17: 28, 18: 29, 19: 30, 20: 31, 21: 32, 22: 33, 23: 34, 24: 35, 25: 36, 26: 37, 27: 38, 28: 39, 29: 40, 30: 41, 31: 42, 32: 43, 33: 44, 34: 45, 35: 46, 36: 49, 37: 50, 38: 51, 39: 52, 40: 53, 41: 54, 42: 55, 43: 62, 44: 63, 45: 64, 46: 65, 47: 66, 48: 67, 49: 68, 50: 69, 51: 70, 52: 71, 53: 72, 54: 73, 55: 74, 56: 75, 57: 76, 58: 77, 59: 78, 60: 79, 61: 80, 62: 81, 63: 84, 64: 87, 65: 89, 66: 90, 67: 93, 68: 94, 69: 95, 70: 96, 71: 97, 72: 98, 73: 99, 74: 100, 75: 101, 76: 103, 77: 110, 78: 111, 79: 112, 80: 113, 81: 117, 82: 118, 83: 123, 84: 125, 85: 126, 86: 130, 87: 133, 88: 138, 89: 141, 90: 151, 91: 153, 92: 156, 93: 165, 94: 166, 95: 168, 96: 170, 97: 179, 98: 185, 99: 191, 100: 203, 101: 214, 102: 219, 103: 222, 104: 223, 105: 224, 106: 225, 107: 239, 108: 242, 109: 257, 110: 264, 111: 288, 112: 289, 113: 315, 114: 317, 115: 322, 116: 325, 117: 333, 118: 347, 119: 348, 120: 386, 121: 390, 122: 397, 123: 448, 124: 451, 125: 454, 126: 521, 127: 531, 128: 729, 129: 927}\n"
          ]
        }
      ]
    },
    {
      "cell_type": "code",
      "source": [
        "df_encoder.head()"
      ],
      "metadata": {
        "colab": {
          "base_uri": "https://localhost:8080/",
          "height": 337
        },
        "id": "FLMVsIBy8W4S",
        "outputId": "b1f547c1-7ad5-4770-fa96-78808b5cfd6f"
      },
      "execution_count": null,
      "outputs": [
        {
          "output_type": "execute_result",
          "data": {
            "text/plain": [
              "   page#          package_name  \\\n",
              "0    1.0  611438_NJ_BURLINGTON   \n",
              "1    2.0  611438_NJ_BURLINGTON   \n",
              "2    3.0  611438_NJ_BURLINGTON   \n",
              "3    4.0  611438_NJ_BURLINGTON   \n",
              "4    5.0  611438_NJ_BURLINGTON   \n",
              "\n",
              "                                                text  token  \\\n",
              "0  HADDONFIELD - CITY ABSTRACT, L 1LBS 10F1\\nZaSS...      8   \n",
              "1  oO ANOrIRE: REDSEiY. SRARIT U Bsc, Hh Mea, ie ...      8   \n",
              "2  City Abstract, LLC ALTA Buyer's Settlement Sta...      4   \n",
              "3  po Description Bayer\\nTitle - Lender's Title P...      4   \n",
              "4  City Abstract, LLC ALTA Seller's Settlement St...      6   \n",
              "\n",
              "                                          clean_text  \n",
              "0  <start> haddonfield city abstract lbs zassokae...  \n",
              "1  <start> anorire redseiy srarit bsc mea laa wit...  \n",
              "2  <start> city abstract llc alta buyers settleme...  \n",
              "3  <start> description bayer title lenders title ...  \n",
              "4  <start> city abstract llc alta sellers settlem...  "
            ],
            "text/html": [
              "\n",
              "  <div id=\"df-e0ec93fc-f8c5-4130-8f20-e886b2157f4f\">\n",
              "    <div class=\"colab-df-container\">\n",
              "      <div>\n",
              "<style scoped>\n",
              "    .dataframe tbody tr th:only-of-type {\n",
              "        vertical-align: middle;\n",
              "    }\n",
              "\n",
              "    .dataframe tbody tr th {\n",
              "        vertical-align: top;\n",
              "    }\n",
              "\n",
              "    .dataframe thead th {\n",
              "        text-align: right;\n",
              "    }\n",
              "</style>\n",
              "<table border=\"1\" class=\"dataframe\">\n",
              "  <thead>\n",
              "    <tr style=\"text-align: right;\">\n",
              "      <th></th>\n",
              "      <th>page#</th>\n",
              "      <th>package_name</th>\n",
              "      <th>text</th>\n",
              "      <th>token</th>\n",
              "      <th>clean_text</th>\n",
              "    </tr>\n",
              "  </thead>\n",
              "  <tbody>\n",
              "    <tr>\n",
              "      <th>0</th>\n",
              "      <td>1.0</td>\n",
              "      <td>611438_NJ_BURLINGTON</td>\n",
              "      <td>HADDONFIELD - CITY ABSTRACT, L 1LBS 10F1\\nZaSS...</td>\n",
              "      <td>8</td>\n",
              "      <td>&lt;start&gt; haddonfield city abstract lbs zassokae...</td>\n",
              "    </tr>\n",
              "    <tr>\n",
              "      <th>1</th>\n",
              "      <td>2.0</td>\n",
              "      <td>611438_NJ_BURLINGTON</td>\n",
              "      <td>oO ANOrIRE: REDSEiY. SRARIT U Bsc, Hh Mea, ie ...</td>\n",
              "      <td>8</td>\n",
              "      <td>&lt;start&gt; anorire redseiy srarit bsc mea laa wit...</td>\n",
              "    </tr>\n",
              "    <tr>\n",
              "      <th>2</th>\n",
              "      <td>3.0</td>\n",
              "      <td>611438_NJ_BURLINGTON</td>\n",
              "      <td>City Abstract, LLC ALTA Buyer's Settlement Sta...</td>\n",
              "      <td>4</td>\n",
              "      <td>&lt;start&gt; city abstract llc alta buyers settleme...</td>\n",
              "    </tr>\n",
              "    <tr>\n",
              "      <th>3</th>\n",
              "      <td>4.0</td>\n",
              "      <td>611438_NJ_BURLINGTON</td>\n",
              "      <td>po Description Bayer\\nTitle - Lender's Title P...</td>\n",
              "      <td>4</td>\n",
              "      <td>&lt;start&gt; description bayer title lenders title ...</td>\n",
              "    </tr>\n",
              "    <tr>\n",
              "      <th>4</th>\n",
              "      <td>5.0</td>\n",
              "      <td>611438_NJ_BURLINGTON</td>\n",
              "      <td>City Abstract, LLC ALTA Seller's Settlement St...</td>\n",
              "      <td>6</td>\n",
              "      <td>&lt;start&gt; city abstract llc alta sellers settlem...</td>\n",
              "    </tr>\n",
              "  </tbody>\n",
              "</table>\n",
              "</div>\n",
              "      <button class=\"colab-df-convert\" onclick=\"convertToInteractive('df-e0ec93fc-f8c5-4130-8f20-e886b2157f4f')\"\n",
              "              title=\"Convert this dataframe to an interactive table.\"\n",
              "              style=\"display:none;\">\n",
              "        \n",
              "  <svg xmlns=\"http://www.w3.org/2000/svg\" height=\"24px\"viewBox=\"0 0 24 24\"\n",
              "       width=\"24px\">\n",
              "    <path d=\"M0 0h24v24H0V0z\" fill=\"none\"/>\n",
              "    <path d=\"M18.56 5.44l.94 2.06.94-2.06 2.06-.94-2.06-.94-.94-2.06-.94 2.06-2.06.94zm-11 1L8.5 8.5l.94-2.06 2.06-.94-2.06-.94L8.5 2.5l-.94 2.06-2.06.94zm10 10l.94 2.06.94-2.06 2.06-.94-2.06-.94-.94-2.06-.94 2.06-2.06.94z\"/><path d=\"M17.41 7.96l-1.37-1.37c-.4-.4-.92-.59-1.43-.59-.52 0-1.04.2-1.43.59L10.3 9.45l-7.72 7.72c-.78.78-.78 2.05 0 2.83L4 21.41c.39.39.9.59 1.41.59.51 0 1.02-.2 1.41-.59l7.78-7.78 2.81-2.81c.8-.78.8-2.07 0-2.86zM5.41 20L4 18.59l7.72-7.72 1.47 1.35L5.41 20z\"/>\n",
              "  </svg>\n",
              "      </button>\n",
              "      \n",
              "  <style>\n",
              "    .colab-df-container {\n",
              "      display:flex;\n",
              "      flex-wrap:wrap;\n",
              "      gap: 12px;\n",
              "    }\n",
              "\n",
              "    .colab-df-convert {\n",
              "      background-color: #E8F0FE;\n",
              "      border: none;\n",
              "      border-radius: 50%;\n",
              "      cursor: pointer;\n",
              "      display: none;\n",
              "      fill: #1967D2;\n",
              "      height: 32px;\n",
              "      padding: 0 0 0 0;\n",
              "      width: 32px;\n",
              "    }\n",
              "\n",
              "    .colab-df-convert:hover {\n",
              "      background-color: #E2EBFA;\n",
              "      box-shadow: 0px 1px 2px rgba(60, 64, 67, 0.3), 0px 1px 3px 1px rgba(60, 64, 67, 0.15);\n",
              "      fill: #174EA6;\n",
              "    }\n",
              "\n",
              "    [theme=dark] .colab-df-convert {\n",
              "      background-color: #3B4455;\n",
              "      fill: #D2E3FC;\n",
              "    }\n",
              "\n",
              "    [theme=dark] .colab-df-convert:hover {\n",
              "      background-color: #434B5C;\n",
              "      box-shadow: 0px 1px 3px 1px rgba(0, 0, 0, 0.15);\n",
              "      filter: drop-shadow(0px 1px 2px rgba(0, 0, 0, 0.3));\n",
              "      fill: #FFFFFF;\n",
              "    }\n",
              "  </style>\n",
              "\n",
              "      <script>\n",
              "        const buttonEl =\n",
              "          document.querySelector('#df-e0ec93fc-f8c5-4130-8f20-e886b2157f4f button.colab-df-convert');\n",
              "        buttonEl.style.display =\n",
              "          google.colab.kernel.accessAllowed ? 'block' : 'none';\n",
              "\n",
              "        async function convertToInteractive(key) {\n",
              "          const element = document.querySelector('#df-e0ec93fc-f8c5-4130-8f20-e886b2157f4f');\n",
              "          const dataTable =\n",
              "            await google.colab.kernel.invokeFunction('convertToInteractive',\n",
              "                                                     [key], {});\n",
              "          if (!dataTable) return;\n",
              "\n",
              "          const docLinkHtml = 'Like what you see? Visit the ' +\n",
              "            '<a target=\"_blank\" href=https://colab.research.google.com/notebooks/data_table.ipynb>data table notebook</a>'\n",
              "            + ' to learn more about interactive tables.';\n",
              "          element.innerHTML = '';\n",
              "          dataTable['output_type'] = 'display_data';\n",
              "          await google.colab.output.renderOutput(dataTable, element);\n",
              "          const docLink = document.createElement('div');\n",
              "          docLink.innerHTML = docLinkHtml;\n",
              "          element.appendChild(docLink);\n",
              "        }\n",
              "      </script>\n",
              "    </div>\n",
              "  </div>\n",
              "  "
            ]
          },
          "metadata": {},
          "execution_count": 6
        }
      ]
    },
    {
      "cell_type": "code",
      "source": [
        "class MyTokenizer:\n",
        "  def __init__(self, tokenizer_path, df, max_length = 512):\n",
        "    self.tokenizer_path = tokenizer_path\n",
        "    self.tokenizer = AutoTokenizer.from_pretrained(self.tokenizer_path)\n",
        "    self.max_length = max_length\n",
        "    self.df = df\n",
        "  \n",
        "  def data_tokenization(self):\n",
        "    processed_data = []\n",
        "    for i in tqdm(range(len(self.df))):\n",
        "      text = self.df['clean_text'].iloc[i]\n",
        "      label = self.df['token'].iloc[i]\n",
        "\n",
        "      encodings = self.tokenizer(text, padding=\"max_length\", truncation=True, max_length=self.max_length,\n",
        "                          add_special_tokens=True, # Add [CLS] and [SEP] tokens\n",
        "                          )\n",
        "      encodings['label'] = label\n",
        "      encodings['text'] = text\n",
        "      processed_data.append(encodings)\n",
        "    return processed_data, self.tokenizer"
      ],
      "metadata": {
        "id": "flne_9kbI0w8"
      },
      "execution_count": null,
      "outputs": []
    },
    {
      "cell_type": "code",
      "source": [
        "tokenizer_path = '/content/drive/MyDrive/Annotation Folder/BERT/tokenizer'\n",
        "tokenizer_obj = MyTokenizer(tokenizer_path, df_encoder)\n",
        "processed_data, tokenizer = tokenizer_obj.data_tokenization()"
      ],
      "metadata": {
        "colab": {
          "base_uri": "https://localhost:8080/",
          "height": 49,
          "referenced_widgets": [
            "ea63797409684b0c99bf6311fca3271c",
            "e95951646a26422db8135b1b9f88b903",
            "9bcbc8ae064e449baa6ba8211b794cdf",
            "e8174f3ab72d4fdfbb46e42d7a2bbea6",
            "a7e678b1dd35456cac02f1a3a5c44859",
            "ab135bc33f1f4f4cbcd3d36a18972d11",
            "028cbf0fda8d412181df3de7f76b4005",
            "cc9d535d36e34a47a4e2c0bd626f5832",
            "f6d82887eafc45469733b66497d0b395",
            "1eac9852bd2f48fb8289ddf609623fee",
            "af16f9fd2dfe4c1494f6b44d96a0e723"
          ]
        },
        "id": "aND0moPWJxo-",
        "outputId": "081ccaa9-0059-4bf8-f2e0-7dcd24e3fb52"
      },
      "execution_count": null,
      "outputs": [
        {
          "output_type": "display_data",
          "data": {
            "text/plain": [
              "  0%|          | 0/88551 [00:00<?, ?it/s]"
            ],
            "application/vnd.jupyter.widget-view+json": {
              "version_major": 2,
              "version_minor": 0,
              "model_id": "ea63797409684b0c99bf6311fca3271c"
            }
          },
          "metadata": {}
        }
      ]
    },
    {
      "cell_type": "code",
      "source": [
        "class DataSplition:\n",
        "  def __init__(self, processed_data):\n",
        "    self.processed_data = processed_data\n",
        "    self.new_df = pd.DataFrame(self.processed_data)\n",
        "\n",
        "  def split_data(self, test_size=0.2, random_state=42):\n",
        "    train_df, valid_df = tqdm(train_test_split(self.new_df,\n",
        "                                          test_size=test_size,\n",
        "                                          random_state=random_state), desc='data_splition')\n",
        "  \n",
        "    train_hg = Dataset(pa.Table.from_pandas(train_df))\n",
        "    valid_hg = Dataset(pa.Table.from_pandas(valid_df))\n",
        "    return train_hg, valid_hg"
      ],
      "metadata": {
        "id": "3mAhy6qYMkXS"
      },
      "execution_count": null,
      "outputs": []
    },
    {
      "cell_type": "code",
      "source": [
        "datasplition_obj = DataSplition(processed_data)\n",
        "train_hg, valid_hg = datasplition_obj.split_data(test_size=0.2, random_state=42)"
      ],
      "metadata": {
        "colab": {
          "base_uri": "https://localhost:8080/",
          "height": 49,
          "referenced_widgets": [
            "1dc4c2b0140344f69a20d02f9b8cb8a8",
            "5428b37576574cf0ba6c4a5eb850cc54",
            "86f6a54ce7f64fd5a78543bebc486d57",
            "d3e8c11429b64a37bac4e77d98a8a444",
            "209bc42025314edb84cbbb2dfe61bade",
            "9a8ea2899eff41cfa6cfcc8879d0a1af",
            "153f0d2f82a54e6fbc501c4cbc2c2aae",
            "c406475d2fb34a5bad76d2ddb370967f",
            "aab02e7509df4e9f9df84cb7100690be",
            "03d216ef27694a4d96447b3481658557",
            "14f0485b46424863b9b5d94e56014617"
          ]
        },
        "id": "GCFfetG0NWcl",
        "outputId": "f4833e64-10f7-45ee-b42e-6e53a3a5b6ec"
      },
      "execution_count": null,
      "outputs": [
        {
          "output_type": "display_data",
          "data": {
            "text/plain": [
              "data_splition:   0%|          | 0/2 [00:00<?, ?it/s]"
            ],
            "application/vnd.jupyter.widget-view+json": {
              "version_major": 2,
              "version_minor": 0,
              "model_id": "1dc4c2b0140344f69a20d02f9b8cb8a8"
            }
          },
          "metadata": {}
        }
      ]
    },
    {
      "cell_type": "code",
      "source": [
        "class TrainModel:\n",
        "  def __init__(self,model_path, tokenizer, train_dataset, eval_dataset, num_train_epochs=2):\n",
        "    self.model_path = model_path\n",
        "    self.tokenizer = tokenizer\n",
        "    self.train_dataset = train_dataset\n",
        "    self.eval_dataset = eval_dataset\n",
        "    self.num_train_epochs = num_train_epochs\n",
        "\n",
        "    self.model = AutoModelForSequenceClassification.from_pretrained(self.model_path)\n",
        "\n",
        "  def compute_metrics(self, eval_pred):\n",
        "    logits, labels = eval_pred\n",
        "    predictions = np.argmax(logits, axis=-1)\n",
        "    accuracy = accuracy_score(labels, predictions)\n",
        "    precision, recall, _, _ = precision_recall_fscore_support(labels, predictions, average='weighted')\n",
        "    return {'accuracy': accuracy, 'precision': precision, 'recall': recall}\n",
        "\n",
        "  def train_model(self,):\n",
        "    training_args = TrainingArguments(output_dir=\"/content/drive/MyDrive/Annotation Folder/result_full_data\",\n",
        "                                  evaluation_strategy=\"epoch\",\n",
        "                                  num_train_epochs=self.num_train_epochs,  # set the number of epochs here\n",
        "                                  # resume_from_checkpoint=\"/content/drive/MyDrive/Annotation Folder/result_full_data/checkpoint-7000\",\n",
        "                                  save_strategy=\"steps\",  # save checkpoints every epoch\n",
        "                                  save_steps=1000,  # save checkpoints every 10 epochs\n",
        "                                  )\n",
        "\n",
        "    trainer = Trainer(\n",
        "        model=self.model,\n",
        "        args=training_args,\n",
        "        train_dataset=self.train_dataset,\n",
        "        eval_dataset=self.eval_dataset,\n",
        "        tokenizer=self.tokenizer,\n",
        "        compute_metrics=self.compute_metrics,)\n",
        "  \n",
        "    trainer.train()\n",
        "    trainer.evaluate()\n",
        "\n",
        "  def save_model(self, save_model_path):\n",
        "    self.model.save_pretrained(save_model_path)\n"
      ],
      "metadata": {
        "id": "wYzlNpDCOTIy"
      },
      "execution_count": null,
      "outputs": []
    },
    {
      "cell_type": "code",
      "source": [
        "model_path = '/content/drive/MyDrive/Annotation Folder/BERT/BERT_MODEL_FULL_SAMPLE_GREATER_100_24_MAY_2023_train_1_more_epoch/'\n",
        "tokenizer = tokenizer\n",
        "train_dataset = train_hg\n",
        "eval_dataset = valid_hg\n",
        "num_train_epochs=1\n",
        "\n",
        "model_obj = TrainModel(model_path, tokenizer, train_dataset,\n",
        "                       eval_dataset, num_train_epochs)\n",
        "model_obj.train_model()\n",
        "model_obj.save_model(\"/content/drive/MyDrive/Annotation Folder/BERT/BERT_MODEL_FULL_SAMPLE_GREATER_100_24_MAY_2023_train_4/\")"
      ],
      "metadata": {
        "colab": {
          "base_uri": "https://localhost:8080/",
          "height": 326
        },
        "id": "YjEpnNHShmza",
        "outputId": "d70134c8-bf7d-463b-b89c-fb55cad9e1e9"
      },
      "execution_count": null,
      "outputs": [
        {
          "metadata": {
            "tags": null
          },
          "name": "stderr",
          "output_type": "stream",
          "text": [
            "/usr/local/lib/python3.10/dist-packages/transformers/optimization.py:391: FutureWarning: This implementation of AdamW is deprecated and will be removed in a future version. Use the PyTorch implementation torch.optim.AdamW instead, or set `no_deprecation_warning=True` to disable this warning\n",
            "  warnings.warn(\n",
            "You're using a BertTokenizerFast tokenizer. Please note that with a fast tokenizer, using the `__call__` method is faster than using a method to encode the text followed by a call to the `pad` method to get a padded encoding.\n"
          ]
        },
        {
          "data": {
            "text/html": [
              "\n",
              "    <div>\n",
              "      \n",
              "      <progress value='5007' max='8855' style='width:300px; height:20px; vertical-align: middle;'></progress>\n",
              "      [5007/8855 1:04:39 < 49:42, 1.29 it/s, Epoch 0.57/1]\n",
              "    </div>\n",
              "    <table border=\"1\" class=\"dataframe\">\n",
              "  <thead>\n",
              " <tr style=\"text-align: left;\">\n",
              "      <th>Epoch</th>\n",
              "      <th>Training Loss</th>\n",
              "      <th>Validation Loss</th>\n",
              "    </tr>\n",
              "  </thead>\n",
              "  <tbody>\n",
              "  </tbody>\n",
              "</table><p>"
            ],
            "text/plain": [
              "<IPython.core.display.HTML object>"
            ]
          },
          "metadata": {},
          "output_type": "display_data"
        },
        {
          "output_type": "display_data",
          "data": {
            "text/plain": [
              "<IPython.core.display.HTML object>"
            ],
            "text/html": [
              "\n",
              "    <div>\n",
              "      \n",
              "      <progress value='8855' max='8855' style='width:300px; height:20px; vertical-align: middle;'></progress>\n",
              "      [8855/8855 2:03:25, Epoch 1/1]\n",
              "    </div>\n",
              "    <table border=\"1\" class=\"dataframe\">\n",
              "  <thead>\n",
              " <tr style=\"text-align: left;\">\n",
              "      <th>Epoch</th>\n",
              "      <th>Training Loss</th>\n",
              "      <th>Validation Loss</th>\n",
              "      <th>Accuracy</th>\n",
              "      <th>Precision</th>\n",
              "      <th>Recall</th>\n",
              "    </tr>\n",
              "  </thead>\n",
              "  <tbody>\n",
              "    <tr>\n",
              "      <td>1</td>\n",
              "      <td>0.168100</td>\n",
              "      <td>0.182558</td>\n",
              "      <td>0.961041</td>\n",
              "      <td>0.963147</td>\n",
              "      <td>0.961041</td>\n",
              "    </tr>\n",
              "  </tbody>\n",
              "</table><p>"
            ]
          },
          "metadata": {}
        },
        {
          "output_type": "stream",
          "name": "stderr",
          "text": [
            "/usr/local/lib/python3.10/dist-packages/sklearn/metrics/_classification.py:1344: UndefinedMetricWarning: Precision and F-score are ill-defined and being set to 0.0 in labels with no predicted samples. Use `zero_division` parameter to control this behavior.\n",
            "  _warn_prf(average, modifier, msg_start, len(result))\n"
          ]
        },
        {
          "output_type": "display_data",
          "data": {
            "text/plain": [
              "<IPython.core.display.HTML object>"
            ],
            "text/html": [
              "\n",
              "    <div>\n",
              "      \n",
              "      <progress value='2214' max='2214' style='width:300px; height:20px; vertical-align: middle;'></progress>\n",
              "      [2214/2214 09:30]\n",
              "    </div>\n",
              "    "
            ]
          },
          "metadata": {}
        },
        {
          "output_type": "stream",
          "name": "stderr",
          "text": [
            "/usr/local/lib/python3.10/dist-packages/sklearn/metrics/_classification.py:1344: UndefinedMetricWarning: Precision and F-score are ill-defined and being set to 0.0 in labels with no predicted samples. Use `zero_division` parameter to control this behavior.\n",
            "  _warn_prf(average, modifier, msg_start, len(result))\n"
          ]
        }
      ]
    },
    {
      "cell_type": "code",
      "source": [
        "# Save tokenizer to disk\n",
        "tokenizer.save_pretrained('/content/drive/MyDrive/Annotation Folder/BERT/tokenizer_4_epoch')"
      ],
      "metadata": {
        "colab": {
          "base_uri": "https://localhost:8080/"
        },
        "id": "6RooAl5ziw1_",
        "outputId": "a3491873-04d5-42c8-aaa4-77970ef020d4"
      },
      "execution_count": null,
      "outputs": [
        {
          "output_type": "execute_result",
          "data": {
            "text/plain": [
              "('/content/drive/MyDrive/Annotation Folder/BERT/tokenizer_4_epoch/tokenizer_config.json',\n",
              " '/content/drive/MyDrive/Annotation Folder/BERT/tokenizer_4_epoch/special_tokens_map.json',\n",
              " '/content/drive/MyDrive/Annotation Folder/BERT/tokenizer_4_epoch/vocab.txt',\n",
              " '/content/drive/MyDrive/Annotation Folder/BERT/tokenizer_4_epoch/added_tokens.json',\n",
              " '/content/drive/MyDrive/Annotation Folder/BERT/tokenizer_4_epoch/tokenizer.json')"
            ]
          },
          "metadata": {},
          "execution_count": 14
        }
      ]
    },
    {
      "cell_type": "code",
      "source": [
        "class ModelInference:\n",
        "  def __init__(self, model_path, tokenizer_path, encoding_labels,\n",
        "               max_length=512, text=None, start_token='<start> ', end_token=' <end>'):\n",
        "    self.model_path = model_path\n",
        "    self.tokenizer_path = tokenizer_path\n",
        "    self.encoding_labels = encoding_labels\n",
        "    self.text = text\n",
        "    self.start_token = start_token\n",
        "    self.end_token = end_token\n",
        "\n",
        "    self.model1 = AutoModelForSequenceClassification.from_pretrained(self.model_path)\n",
        "    self.tokenizer1 = AutoTokenizer.from_pretrained(self.tokenizer_path)\n",
        "    self.actual_label = {k: str(v) for k, v in self.encoding_labels.items()}\n",
        "\n",
        "  def clean_text(self):\n",
        "    # Define regex patterns\n",
        "    punct_pattern = r'[^\\w\\s]'\n",
        "    num_pattern = r'\\d+'\n",
        "    special_pattern = r'[^A-Za-z0-9\\s]'\n",
        "\n",
        "    self.text = re.sub(r'\\\\n|\\n', ' ', self.text)\n",
        "    # remove links\n",
        "    self.text = re.sub(r\"http\\S+\", \"\", self.text)\n",
        "    self.text = re.sub(r'\\x00|\\\\x00', '', self.text)\n",
        "    # Convert to lowercase\n",
        "    self.text = self.text.lower()\n",
        "    # Remove punctuation\n",
        "    self.text = re.sub(punct_pattern, '', self.text)\n",
        "    # Remove integers\n",
        "    self.text = re.sub(num_pattern, '', self.text)\n",
        "    # Remove special characters\n",
        "    self.text = re.sub(special_pattern, '', self.text)\n",
        "    # Remove extra whitespace\n",
        "    self.text = re.sub('\\s+', ' ', self.text).strip()\n",
        "    # Remove nextline\n",
        "    self.text = re.sub(r'\\n', ' ', self.text)\n",
        "    # Remove words with length 1\n",
        "    self.text = ' '.join(word for word in self.text.split() if len(word) > 2)\n",
        "    # Remove stop words\n",
        "    stop_words = set(stopwords.words('english'))\n",
        "    self.text = ' '.join(word for word in self.text.split() if word not in stop_words)\n",
        "    return self.start_token + self.text + self.end_token\n",
        "\n",
        "\n",
        "  def get_prediction(self):\n",
        "      prompt = self.clean_text()\n",
        "      encoding = self.tokenizer1(prompt, return_tensors=\"pt\", padding=\"max_length\", truncation=True, max_length=512,\n",
        "                        add_special_tokens=True, # Add [CLS] and [SEP] tokens\n",
        "                        )\n",
        "      encoding = {k: v for k,v in encoding.items()}\n",
        "\n",
        "      # Get initial CPU and RAM usage\n",
        "      process = psutil.Process()\n",
        "      initial_cpu = process.cpu_times()\n",
        "\n",
        "      initial_ram = process.memory_info().rss / 1e6\n",
        "\n",
        "      outputs = self.model1(**encoding)\n",
        "\n",
        "      logits = outputs.logits\n",
        "\n",
        "      probs = F.softmax(logits, dim=1).squeeze().cpu().detach().numpy()\n",
        "\n",
        "      label = np.argmax(probs, axis=-1)\n",
        "\n",
        "      # Get CPU and RAM usage after running the model\n",
        "      cpu_usage = sum(process.cpu_times()) - sum(initial_cpu)\n",
        "      ram_usage = (process.memory_info().rss / 1e6) - initial_ram\n",
        "      \n",
        "      return {\n",
        "          'label': int(self.actual_label[label]),\n",
        "          'probability': max(probs),\n",
        "          'cpu_usage (seconds)': cpu_usage,\n",
        "          'ram_usage (MB)': ram_usage\n",
        "      }"
      ],
      "metadata": {
        "id": "JY6yDE30Z_Si"
      },
      "execution_count": null,
      "outputs": []
    },
    {
      "cell_type": "code",
      "source": [
        "model_path = '/content/drive/MyDrive/Annotation Folder/BERT/BERT_MODEL_FULL_SAMPLE_GREATER_100_24_MAY_2023_train_4/'\n",
        "tokenizer_path = '/content/drive/MyDrive/Annotation Folder/BERT/tokenizer_4_epoch'\n",
        "encoding_labels = get_encoding\n",
        "max_length = 512\n",
        "start_token='<start> '\n",
        "end_token=' <end>'\n",
        "text = '''\n",
        "haddonfield city abstract lbs zassokaeib name dwr hie republic first bank dba republic route north suite marlton yeie ron billing\n",
        "'''"
      ],
      "metadata": {
        "id": "3CugkZ8WdPDe"
      },
      "execution_count": null,
      "outputs": []
    },
    {
      "cell_type": "code",
      "source": [
        "start_token='<start> '\n",
        "end_token=' <end>'\n",
        "\n",
        "start_token + text + end_token"
      ],
      "metadata": {
        "id": "IyKFj5GUUk8l"
      },
      "execution_count": null,
      "outputs": []
    },
    {
      "cell_type": "code",
      "source": [
        "inference_obj = ModelInference(model_path, tokenizer_path, \n",
        "                               encoding_labels,max_length, text,\n",
        "                               start_token, end_token)\n",
        "result = inference_obj.get_prediction()\n",
        "result"
      ],
      "metadata": {
        "colab": {
          "base_uri": "https://localhost:8080/"
        },
        "id": "Lu4hLsesdsOe",
        "outputId": "90cc14ad-7af4-43cf-d2f8-6a12b887c431"
      },
      "execution_count": null,
      "outputs": [
        {
          "output_type": "execute_result",
          "data": {
            "text/plain": [
              "{'label': 15,\n",
              " 'probability': 0.9987948,\n",
              " 'cpu_usage (seconds)': 1.2499999999990905,\n",
              " 'ram_usage (MB)': -93.76563200000055}"
            ]
          },
          "metadata": {},
          "execution_count": 29
        }
      ]
    },
    {
      "cell_type": "code",
      "source": [],
      "metadata": {
        "id": "TyUE0EdfSulq"
      },
      "execution_count": null,
      "outputs": []
    }
  ]
}